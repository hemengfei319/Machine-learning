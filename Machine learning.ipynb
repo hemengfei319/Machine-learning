{
 "cells": [
  {
   "cell_type": "markdown",
   "source": [
    "# 机器学习\n",
    "Arthur Samuel:在么没有明确设置的情况下是计算机具有学习能力的研究领域。<br />\n",
    "Tom Mitchell:计算机程序从经验E中学习，解决某一任务T，进行某一性能度量P，通过P测定在T上表现因经验E而提高。"
   ],
   "metadata": {
    "collapsed": false
   },
   "id": "f5da042faa81f005"
  },
  {
   "cell_type": "markdown",
   "source": [
    "## 监督学习 Supervised learning\n",
    "eg: 房价预测（回归问题 Regression problem 预测连续的数值输出） （根据数据画一条直线（or 二次函数）来拟合数据）<br />\n",
    "    肿瘤良性非良性（分类问题 Classification problem 预测一个离散值输出 0/1） <br />\n",
    "给算法一个数据集其中包含了正确答案，算法的目的是给出更多的正确答案<br />\n",
    "提供学习算法实例以供学习。"
   ],
   "metadata": {
    "collapsed": false
   },
   "id": "6951800e2f8736a2"
  },
  {
   "cell_type": "markdown",
   "source": [
    "## 无监督学习 Unsupervised learning\n",
    "eg：聚类算法（Clustering algorithm）、异常检测（Anomaly detection 检测异常事件）、降维（Demensionality reducation 将大数据集压缩为小数据集，同时丢失尽可能少的信息）<br />\n",
    "        计算机集群管理。<br />\n",
    "        社交网络分析。<br />\n",
    "        市场分割。<br />\n",
    "        天文数据分析。<br />\n",
    "    鸡尾酒会问题(Cocktail party problem) 类似通话降噪。 <br />\n",
    "没有把数据集的正确答案给算法。在数据集中找到一些结构或者模式。<br />\n",
    "\n",
    "octave"
   ],
   "metadata": {
    "collapsed": false
   },
   "id": "c98fa41b7c8fb010"
  },
  {
   "cell_type": "markdown",
   "source": [
    "## 强化学习 Reinforcement learing"
   ],
   "metadata": {
    "collapsed": false
   },
   "id": "eb4addd7effdf0e9"
  },
  {
   "cell_type": "markdown",
   "source": [],
   "metadata": {
    "collapsed": false
   },
   "id": "ffcac40ee2ef318d"
  }
 ],
 "metadata": {
  "kernelspec": {
   "display_name": "Python 3",
   "language": "python",
   "name": "python3"
  },
  "language_info": {
   "codemirror_mode": {
    "name": "ipython",
    "version": 2
   },
   "file_extension": ".py",
   "mimetype": "text/x-python",
   "name": "python",
   "nbconvert_exporter": "python",
   "pygments_lexer": "ipython2",
   "version": "2.7.6"
  }
 },
 "nbformat": 4,
 "nbformat_minor": 5
}
